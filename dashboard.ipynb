{
 "cells": [
  {
   "cell_type": "code",
   "execution_count": 1,
   "id": "9ccbd604-1cd9-4131-8b94-4f0eb083ebc6",
   "metadata": {},
   "outputs": [],
   "source": [
    "import streamlit as st\n",
    "import numpy as np\n",
    "import pandas as pd"
   ]
  },
  {
   "cell_type": "code",
   "execution_count": 2,
   "id": "502b94e8-b9df-45e1-b91d-1b0c1bcf628d",
   "metadata": {},
   "outputs": [
    {
     "data": {
      "text/plain": [
       "DeltaGenerator()"
      ]
     },
     "execution_count": 2,
     "metadata": {},
     "output_type": "execute_result"
    }
   ],
   "source": [
    "map_data = pd.DataFrame(\n",
    "    np.random.randn(1000, 2) / [50, 50] + [37.76, -122.4],\n",
    "    columns=['lat', 'lon'])\n",
    "\n",
    "st.map(map_data)"
   ]
  },
  {
   "cell_type": "code",
   "execution_count": null,
   "id": "b90d4816-4ec9-49c0-9a05-f7362913a15d",
   "metadata": {},
   "outputs": [],
   "source": [
    "st.set_page_config("
   ]
  },
  {
   "cell_type": "code",
   "execution_count": 21,
   "id": "f6499784-056c-462b-99e9-7eeb227745a3",
   "metadata": {},
   "outputs": [],
   "source": [
    "data = pd.read_excel('Pytania raport.xlsx')"
   ]
  },
  {
   "cell_type": "code",
   "execution_count": 19,
   "id": "f7c2b26d-b207-448f-be43-7f2cd9082d10",
   "metadata": {},
   "outputs": [],
   "source": [
    "data['Pytanie'] = data['Pytanie'].str.replace('\\n', '<br />')"
   ]
  },
  {
   "cell_type": "code",
   "execution_count": 22,
   "id": "4238734e-7765-4e11-a98a-75353c9ce914",
   "metadata": {},
   "outputs": [
    {
     "name": "stdout",
     "output_type": "stream",
     "text": [
      "Views on same-sex marriage<br />or other legal recognition\n"
     ]
    }
   ],
   "source": [
    "print(str(data.iloc[0,0]))"
   ]
  },
  {
   "cell_type": "code",
   "execution_count": 23,
   "id": "4ff8988e-c703-4fda-9602-85045d5c75b6",
   "metadata": {},
   "outputs": [
    {
     "name": "stdout",
     "output_type": "stream",
     "text": [
      "Views on same-sex marriage<br />or other legal recognition\n"
     ]
    }
   ],
   "source": [
    "print('Views on same-sex marriage<br />or other legal recognition')"
   ]
  },
  {
   "cell_type": "code",
   "execution_count": 14,
   "id": "6f56a721-8818-47cd-8b11-13efda51ea50",
   "metadata": {},
   "outputs": [
    {
     "data": {
      "text/plain": [
       "'Views on same-sex marriage\\\\nor other legal recognition'"
      ]
     },
     "execution_count": 14,
     "metadata": {},
     "output_type": "execute_result"
    }
   ],
   "source": [
    "st.plotly_chart"
   ]
  },
  {
   "cell_type": "code",
   "execution_count": 30,
   "id": "4c1b289f-81be-4262-ad9d-d187a2f2f76f",
   "metadata": {},
   "outputs": [],
   "source": [
    "data = pd.read_excel('Pytania raport.xlsx')\n",
    "data = data[data['Kraj']=='Bulgaria'].reset_index(drop=True)"
   ]
  },
  {
   "cell_type": "code",
   "execution_count": 26,
   "id": "d68b3090-8744-4fe1-a770-5a82fec9178e",
   "metadata": {},
   "outputs": [
    {
     "data": {
      "text/plain": [
       "2     Views on same-sex marriage<br />or other legal...\n",
       "5             Views on same-sex couples' right to adopt\n",
       "8                Acceptance of homosexuals as neighbors\n",
       "11                      Justifiability of homosexuality\n",
       "14               Opinion on same-sex couples as parents\n",
       "17                 Should society accept homosexuality?\n",
       "20    Perceived prevalence of discrimination<br />ag...\n",
       "23    Perceived prevalence of discrimination<br />ag...\n",
       "26                 Acceptance of same-sex relationships\n",
       "29    Support for transgender people<br />changing l...\n",
       "32    Support for same-sex marriage<br />in Central ...\n",
       "35                 Should society accept homosexuality?\n",
       "Name: Pytanie, dtype: object"
      ]
     },
     "execution_count": 26,
     "metadata": {},
     "output_type": "execute_result"
    }
   ],
   "source": [
    "data['Pytanie']"
   ]
  },
  {
   "cell_type": "code",
   "execution_count": 31,
   "id": "45d063a4-cc16-44b4-82d4-0c14e3acd041",
   "metadata": {},
   "outputs": [
    {
     "data": {
      "text/html": [
       "<div>\n",
       "<style scoped>\n",
       "    .dataframe tbody tr th:only-of-type {\n",
       "        vertical-align: middle;\n",
       "    }\n",
       "\n",
       "    .dataframe tbody tr th {\n",
       "        vertical-align: top;\n",
       "    }\n",
       "\n",
       "    .dataframe thead th {\n",
       "        text-align: right;\n",
       "    }\n",
       "</style>\n",
       "<table border=\"1\" class=\"dataframe\">\n",
       "  <thead>\n",
       "    <tr style=\"text-align: right;\">\n",
       "      <th></th>\n",
       "      <th>Pytanie</th>\n",
       "      <th>Kraj</th>\n",
       "      <th>Tak</th>\n",
       "      <th>Nie</th>\n",
       "      <th>Nie mam zdania</th>\n",
       "      <th>Pełna treść</th>\n",
       "      <th>Opis</th>\n",
       "      <th>Source</th>\n",
       "    </tr>\n",
       "  </thead>\n",
       "  <tbody>\n",
       "    <tr>\n",
       "      <th>0</th>\n",
       "      <td>Views on same-sex marriage&lt;br /&gt;or other legal...</td>\n",
       "      <td>Bulgaria</td>\n",
       "      <td>NaN</td>\n",
       "      <td>NaN</td>\n",
       "      <td>NaN</td>\n",
       "      <td>NaN</td>\n",
       "      <td>Participants were asked if same-sex couples sh...</td>\n",
       "      <td>Ipsos, April–May, 2021</td>\n",
       "    </tr>\n",
       "    <tr>\n",
       "      <th>1</th>\n",
       "      <td>Views on same-sex couples' right to adopt</td>\n",
       "      <td>Bulgaria</td>\n",
       "      <td>NaN</td>\n",
       "      <td>NaN</td>\n",
       "      <td>NaN</td>\n",
       "      <td>NaN</td>\n",
       "      <td>Participants were asked if same-sex couples sh...</td>\n",
       "      <td>Ipsos, April–May, 2021</td>\n",
       "    </tr>\n",
       "    <tr>\n",
       "      <th>2</th>\n",
       "      <td>Acceptance of homosexuals as neighbors</td>\n",
       "      <td>Bulgaria</td>\n",
       "      <td>0.31</td>\n",
       "      <td>0.60</td>\n",
       "      <td>0.09</td>\n",
       "      <td>NaN</td>\n",
       "      <td>In this question, respondents were asked: \"On ...</td>\n",
       "      <td>World Values Survey, 2017-2020</td>\n",
       "    </tr>\n",
       "    <tr>\n",
       "      <th>3</th>\n",
       "      <td>Justifiability of homosexuality</td>\n",
       "      <td>Bulgaria</td>\n",
       "      <td>0.07</td>\n",
       "      <td>0.66</td>\n",
       "      <td>0.27</td>\n",
       "      <td>NaN</td>\n",
       "      <td>Respondents were asked: \"Please tell me for ea...</td>\n",
       "      <td>World Values Survey, 2017-2020</td>\n",
       "    </tr>\n",
       "    <tr>\n",
       "      <th>4</th>\n",
       "      <td>Opinion on same-sex couples as parents</td>\n",
       "      <td>Bulgaria</td>\n",
       "      <td>0.10</td>\n",
       "      <td>0.60</td>\n",
       "      <td>0.30</td>\n",
       "      <td>NaN</td>\n",
       "      <td>In this question, respondents were asked: \"Do ...</td>\n",
       "      <td>World Values Survey, 2017-2020</td>\n",
       "    </tr>\n",
       "    <tr>\n",
       "      <th>5</th>\n",
       "      <td>Should society accept homosexuality?</td>\n",
       "      <td>Bulgaria</td>\n",
       "      <td>0.32</td>\n",
       "      <td>0.48</td>\n",
       "      <td>0.20</td>\n",
       "      <td>NaN</td>\n",
       "      <td>Survey participants were asked \"And which one ...</td>\n",
       "      <td>Pew Research Center, May–October, 2019</td>\n",
       "    </tr>\n",
       "    <tr>\n",
       "      <th>6</th>\n",
       "      <td>Perceived prevalence of discrimination&lt;br /&gt;ag...</td>\n",
       "      <td>Bulgaria</td>\n",
       "      <td>0.45</td>\n",
       "      <td>0.29</td>\n",
       "      <td>0.26</td>\n",
       "      <td>For each of the following types of discriminat...</td>\n",
       "      <td>In May 2019, the European Commission conducted...</td>\n",
       "      <td>Eurobarometer, May 2019</td>\n",
       "    </tr>\n",
       "    <tr>\n",
       "      <th>7</th>\n",
       "      <td>Perceived prevalence of discrimination&lt;br /&gt;ag...</td>\n",
       "      <td>Bulgaria</td>\n",
       "      <td>0.40</td>\n",
       "      <td>0.23</td>\n",
       "      <td>0.37</td>\n",
       "      <td>For each of the following types of discriminat...</td>\n",
       "      <td>In May 2019, the European Commission conducted...</td>\n",
       "      <td>Eurobarometer, May 2019</td>\n",
       "    </tr>\n",
       "    <tr>\n",
       "      <th>8</th>\n",
       "      <td>Acceptance of same-sex relationships</td>\n",
       "      <td>Bulgaria</td>\n",
       "      <td>0.20</td>\n",
       "      <td>0.71</td>\n",
       "      <td>0.09</td>\n",
       "      <td>To what extent do you agree or disagree with e...</td>\n",
       "      <td>In May 2019, the European Commission conducted...</td>\n",
       "      <td>Eurobarometer, May 2019</td>\n",
       "    </tr>\n",
       "    <tr>\n",
       "      <th>9</th>\n",
       "      <td>Support for transgender people&lt;br /&gt;changing l...</td>\n",
       "      <td>Bulgaria</td>\n",
       "      <td>0.12</td>\n",
       "      <td>0.60</td>\n",
       "      <td>0.28</td>\n",
       "      <td>Do you think that transgender persons should b...</td>\n",
       "      <td>In May 2019, the European Commission conducted...</td>\n",
       "      <td>Eurobarometer, May 2019</td>\n",
       "    </tr>\n",
       "    <tr>\n",
       "      <th>10</th>\n",
       "      <td>Support for same-sex marriage&lt;br /&gt;in Central ...</td>\n",
       "      <td>Bulgaria</td>\n",
       "      <td>0.18</td>\n",
       "      <td>0.79</td>\n",
       "      <td>0.03</td>\n",
       "      <td>Do you strongly favor, favor, oppose, or stron...</td>\n",
       "      <td>Pew Research Center surveyed Central and Easte...</td>\n",
       "      <td>Pew Research Center, June 2015-July 2016</td>\n",
       "    </tr>\n",
       "    <tr>\n",
       "      <th>11</th>\n",
       "      <td>Should society accept homosexuality?</td>\n",
       "      <td>Bulgaria</td>\n",
       "      <td>0.31</td>\n",
       "      <td>0.61</td>\n",
       "      <td>0.08</td>\n",
       "      <td>Please tell me whether the FIRST statement or ...</td>\n",
       "      <td>Pew Research Center surveyed individuals in Ea...</td>\n",
       "      <td>Pew Research Center, June 2015-July 2016</td>\n",
       "    </tr>\n",
       "  </tbody>\n",
       "</table>\n",
       "</div>"
      ],
      "text/plain": [
       "                                              Pytanie      Kraj   Tak  Nie   \\\n",
       "0   Views on same-sex marriage<br />or other legal...  Bulgaria   NaN   NaN   \n",
       "1           Views on same-sex couples' right to adopt  Bulgaria   NaN   NaN   \n",
       "2              Acceptance of homosexuals as neighbors  Bulgaria  0.31  0.60   \n",
       "3                     Justifiability of homosexuality  Bulgaria  0.07  0.66   \n",
       "4              Opinion on same-sex couples as parents  Bulgaria  0.10  0.60   \n",
       "5                Should society accept homosexuality?  Bulgaria  0.32  0.48   \n",
       "6   Perceived prevalence of discrimination<br />ag...  Bulgaria  0.45  0.29   \n",
       "7   Perceived prevalence of discrimination<br />ag...  Bulgaria  0.40  0.23   \n",
       "8                Acceptance of same-sex relationships  Bulgaria  0.20  0.71   \n",
       "9   Support for transgender people<br />changing l...  Bulgaria  0.12  0.60   \n",
       "10  Support for same-sex marriage<br />in Central ...  Bulgaria  0.18  0.79   \n",
       "11               Should society accept homosexuality?  Bulgaria  0.31  0.61   \n",
       "\n",
       "    Nie mam zdania                                        Pełna treść  \\\n",
       "0              NaN                                                NaN   \n",
       "1              NaN                                                NaN   \n",
       "2             0.09                                                NaN   \n",
       "3             0.27                                                NaN   \n",
       "4             0.30                                                NaN   \n",
       "5             0.20                                                NaN   \n",
       "6             0.26  For each of the following types of discriminat...   \n",
       "7             0.37  For each of the following types of discriminat...   \n",
       "8             0.09  To what extent do you agree or disagree with e...   \n",
       "9             0.28  Do you think that transgender persons should b...   \n",
       "10            0.03  Do you strongly favor, favor, oppose, or stron...   \n",
       "11            0.08  Please tell me whether the FIRST statement or ...   \n",
       "\n",
       "                                                 Opis  \\\n",
       "0   Participants were asked if same-sex couples sh...   \n",
       "1   Participants were asked if same-sex couples sh...   \n",
       "2   In this question, respondents were asked: \"On ...   \n",
       "3   Respondents were asked: \"Please tell me for ea...   \n",
       "4   In this question, respondents were asked: \"Do ...   \n",
       "5   Survey participants were asked \"And which one ...   \n",
       "6   In May 2019, the European Commission conducted...   \n",
       "7   In May 2019, the European Commission conducted...   \n",
       "8   In May 2019, the European Commission conducted...   \n",
       "9   In May 2019, the European Commission conducted...   \n",
       "10  Pew Research Center surveyed Central and Easte...   \n",
       "11  Pew Research Center surveyed individuals in Ea...   \n",
       "\n",
       "                                      Source  \n",
       "0                     Ipsos, April–May, 2021  \n",
       "1                     Ipsos, April–May, 2021  \n",
       "2             World Values Survey, 2017-2020  \n",
       "3             World Values Survey, 2017-2020  \n",
       "4             World Values Survey, 2017-2020  \n",
       "5     Pew Research Center, May–October, 2019  \n",
       "6                    Eurobarometer, May 2019  \n",
       "7                    Eurobarometer, May 2019  \n",
       "8                    Eurobarometer, May 2019  \n",
       "9                    Eurobarometer, May 2019  \n",
       "10  Pew Research Center, June 2015-July 2016  \n",
       "11  Pew Research Center, June 2015-July 2016  "
      ]
     },
     "execution_count": 31,
     "metadata": {},
     "output_type": "execute_result"
    }
   ],
   "source": [
    "data"
   ]
  },
  {
   "cell_type": "code",
   "execution_count": null,
   "id": "98c118cd-f49b-46a7-ab54-d6945c1a2b6a",
   "metadata": {},
   "outputs": [],
   "source": []
  }
 ],
 "metadata": {
  "kernelspec": {
   "display_name": "Python 3 (ipykernel)",
   "language": "python",
   "name": "python3"
  },
  "language_info": {
   "codemirror_mode": {
    "name": "ipython",
    "version": 3
   },
   "file_extension": ".py",
   "mimetype": "text/x-python",
   "name": "python",
   "nbconvert_exporter": "python",
   "pygments_lexer": "ipython3",
   "version": "3.8.0"
  }
 },
 "nbformat": 4,
 "nbformat_minor": 5
}
